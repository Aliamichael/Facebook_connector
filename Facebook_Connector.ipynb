{
 "cells": [
  {
   "cell_type": "markdown",
   "id": "ba80b1a5-410c-4bd8-941d-5d7176798bd6",
   "metadata": {},
   "source": [
    "## Question 3: Using Python 3, implement a Facebook and/or Instagram connector to collect posts (images, text, and comments related to the images) based on a defined topic, for example, \"the death of President Jacques Chirac.\" It is recommended to store the text and images in a MongoDB database. The goal of this question is to evaluate the quality of your source code"
   ]
  },
  {
   "cell_type": "markdown",
   "id": "5b26e5d4-5d9f-4c13-8ba0-9f6ce416664a",
   "metadata": {},
   "source": [
    "#### To approach this question, I have to \n",
    "#### 1. Create a Meta Graph API App. This app serves as a API connector which provides both user and page access tokens.\n",
    "#### 2. Once this app is created, I have to set up a MongoDB Atlas account which provides the database URI that can be connected in the code and later used to store the data.\n",
    "#### 3. Install and import necessary libraries that allow interact with the Facebook API and MongoDB database like `GraphAPI`, `pymongo`, and `MongoClient`"
   ]
  },
  {
   "cell_type": "code",
   "execution_count": 57,
   "id": "550eb258-9333-48b1-b3e0-6064cdcd58e4",
   "metadata": {},
   "outputs": [],
   "source": [
    "import requests\n",
    "import urllib3\n",
    "from pyfacebook import GraphAPI\n",
    "import pymongo\n",
    "from pymongo import MongoClient"
   ]
  },
  {
   "cell_type": "code",
   "execution_count": 89,
   "id": "979ab01f-9596-410e-86aa-48ef37b92dad",
   "metadata": {},
   "outputs": [],
   "source": [
    "# Declaring Constants\n",
    "ACCESS_TOKEN =  'EAAI6kA3lzZAwBO7GtHkwYykMSVxnUzAsma6oCYaSp5p7s2CRSZARXYNmUkKqG7XrizSLZCvIyk1YUhDk5JTuA4hgGTvWruXZBuP83SQUdWZBLHDqRELEytgtqzNFH2NI2DK4Y4IHu5ji77IMozYzSivnqRCKNYPpG2FtCIbE1zZAYXEdgLQARRFQu2A11HcCz1DqGW00KYJrzBYtjgXwZDZD' \n",
    "API_URL = 'https://graph.facebook.com/v21.0/2895093670650302?access_token=ACCESS-TOKEN'\n",
    "TOPIC = 'Trump'\n",
    "DB_NAME = 'social_media'\n",
    "COLLECTION_NAME = 'posts'"
   ]
  },
  {
   "cell_type": "markdown",
   "id": "3ec5a747-9a13-4f2e-abd0-a6a98081e05d",
   "metadata": {},
   "source": [
    "##### Here, I connect the MongoDB database to the code using the URI provided by MongoDB."
   ]
  },
  {
   "cell_type": "code",
   "execution_count": 90,
   "id": "a359e069-621e-4f75-bce0-10ae0f29f8a7",
   "metadata": {},
   "outputs": [],
   "source": [
    "# MongoDB connection\n",
    "client = MongoClient('mongodb+srv://mikeaagna:<db_password>@cluster0.ukq4r.mongodb.net/?retryWrites=true&w=majority&appName=Cluster0')\n",
    "collection = db[COLLECTION_NAME]"
   ]
  },
  {
   "cell_type": "markdown",
   "id": "6ff98e3d-cc58-47fd-a4b9-50df59f541c8",
   "metadata": {},
   "source": [
    "##### I define a function here which takes the keyword and limit of posts containing the keyword as its arguments, this function block of this code searches for posts containing the keyword `Trump`."
   ]
  },
  {
   "cell_type": "code",
   "execution_count": 91,
   "id": "24a8263e-6976-4254-bfbb-2a7ecc63bc9c",
   "metadata": {},
   "outputs": [],
   "source": [
    "def fetch_facebook_posts(topic, limit=10):\n",
    "\n",
    "    search_url = f\"{API_URL}/search\"\n",
    "    search_params = {\n",
    "        'q': topic,  \n",
    "        'type': 'post',\n",
    "        'fields': 'id,name,picture',\n",
    "        'access_token': ACCESS_TOKEN,\n",
    "        'limit': limit\n",
    "    }\n",
    "    response = requests.get(search_url, params=search_params)\n",
    "    if response.status_code != 200:\n",
    "        raise Exception(f\"Error fetching posts: {response.json()}\")\n",
    "    \n",
    "    return response.json().get('data', [])"
   ]
  },
  {
   "cell_type": "markdown",
   "id": "8d13a787-ca3c-4308-ae9b-ec5107307ed1",
   "metadata": {},
   "source": [
    "##### Here again, I define another function to store the results in the database I have already created."
   ]
  },
  {
   "cell_type": "code",
   "execution_count": 92,
   "id": "200977c8-a412-4230-a09c-41be8e7bbaef",
   "metadata": {},
   "outputs": [],
   "source": [
    "def store_in_mongodb(posts):\n",
    "    \n",
    "    for post in posts:\n",
    "        # Parsing the required fields\n",
    "        post_id = post.get('id')\n",
    "        message = post.get('message', 'No message provided')\n",
    "        created_time = post.get('created_time')\n",
    "        comments = post.get('comments', {}).get('data', [])\n",
    "        attachments = post.get('attachments', {}).get('data', [])\n",
    "        \n",
    "        #to fetch images if any \n",
    "        images = []\n",
    "        for attachment in attachments:\n",
    "            if 'media' in attachment:\n",
    "                images.append(attachment['media'].get('image', {}).get('src'))\n",
    "\n",
    "        \n",
    "        post_document = {\n",
    "            'post_id': post_id,\n",
    "            'message': message,\n",
    "            'created_time': created_time,\n",
    "            'comments': [{'text': c['message'], 'user': c['from']['name']} for c in comments],\n",
    "            'images': images\n",
    "        }\n",
    "\n",
    "        #to insert into mongodb\n",
    "        collection.insert_one(post_document)\n",
    "        print(f\"Inserted post {post_id} into MongoDB.\")"
   ]
  },
  {
   "cell_type": "markdown",
   "id": "036480e2-3a26-4dad-81a6-78da48524f00",
   "metadata": {},
   "source": [
    "##### Finally, I update the main function which validates previous processes.\n",
    "##### The success of the code is heavily dependent on the Meta permissions and access. I have checked the logic of my code more than 10 times and the only error I have encountered is with the permission to access posts by Facebook. \n",
    "##### `NOTE:` It requires a different `GET` process to fetch post videos as this has been updated by Facebook.\n",
    "##### While working on this test, I observed that the permissions for Facebook API have changed and hence certain posts cannot be accessed."
   ]
  },
  {
   "cell_type": "code",
   "execution_count": 93,
   "id": "6db545cb-2409-4b44-a824-724ca7358764",
   "metadata": {},
   "outputs": [
    {
     "name": "stdout",
     "output_type": "stream",
     "text": [
      "Fetching posts related to 'Trump'...\n",
      "Fetched 0 posts. Storing in MongoDB...\n",
      "All posts have been stored successfully.\n"
     ]
    }
   ],
   "source": [
    "def main():\n",
    "    try:\n",
    "        print(f\"Fetching posts related to '{TOPIC}'...\")\n",
    "        posts = fetch_facebook_posts(TOPIC, limit=10)\n",
    "        print(f\"Fetched {len(posts)} posts. Storing in MongoDB...\")\n",
    "        store_in_mongodb(posts)\n",
    "        print(\"All posts have been stored successfully.\")\n",
    "    except Exception as e:\n",
    "        print(f\"An error occurred: {e}\")\n",
    "\n",
    "if __name__ == \"__main__\":\n",
    "    main()"
   ]
  },
  {
   "cell_type": "code",
   "execution_count": null,
   "id": "eb3b4555-3787-47e3-9060-046eb1ea6ef2",
   "metadata": {},
   "outputs": [],
   "source": []
  }
 ],
 "metadata": {
  "kernelspec": {
   "display_name": "Python 3 (ipykernel)",
   "language": "python",
   "name": "python3"
  },
  "language_info": {
   "codemirror_mode": {
    "name": "ipython",
    "version": 3
   },
   "file_extension": ".py",
   "mimetype": "text/x-python",
   "name": "python",
   "nbconvert_exporter": "python",
   "pygments_lexer": "ipython3",
   "version": "3.10.4"
  }
 },
 "nbformat": 4,
 "nbformat_minor": 5
}
